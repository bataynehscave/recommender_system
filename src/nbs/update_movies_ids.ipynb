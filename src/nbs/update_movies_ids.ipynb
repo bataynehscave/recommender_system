{
 "cells": [
  {
   "cell_type": "code",
   "execution_count": 1,
   "id": "8ca7dc79-cfd0-482c-9901-12878b39216f",
   "metadata": {},
   "outputs": [
    {
     "name": "stdout",
     "output_type": "stream",
     "text": [
      "/home/mohammad/Desktop/Python/recommender_system/src\n"
     ]
    }
   ],
   "source": [
    "import setup_django\n",
    "setup_django.init()"
   ]
  },
  {
   "cell_type": "code",
   "execution_count": 4,
   "id": "198da5c1-5e0c-40c5-a202-98805401fa7e",
   "metadata": {},
   "outputs": [],
   "source": [
    "from ratings.models import Rating\n",
    "import pandas as pd\n",
    "from movies.models import Movie\n",
    "from django.conf import settings"
   ]
  },
  {
   "cell_type": "code",
   "execution_count": 5,
   "id": "7f7b2fa6-3829-49a4-b713-de9160d87122",
   "metadata": {},
   "outputs": [
    {
     "data": {
      "text/plain": [
       "True"
      ]
     },
     "execution_count": 5,
     "metadata": {},
     "output_type": "execute_result"
    }
   ],
   "source": [
    "LINKS_SMALL_CSV = settings.DATA_DIR / 'links_small.csv'\n",
    "LINKS_SMALL_CSV.exists()"
   ]
  },
  {
   "cell_type": "code",
   "execution_count": 6,
   "id": "f8db12e4-215e-4178-be03-4799943ae4ca",
   "metadata": {},
   "outputs": [],
   "source": [
    "qs = Rating.objects.all()\n",
    "missing_movie_ids = [] \n",
    "for obj in qs: \n",
    "    if obj.content_object is None:\n",
    "        missing_movie_ids.append(obj.object_id)"
   ]
  },
  {
   "cell_type": "code",
   "execution_count": 7,
   "id": "159536b4-fa3c-4071-9374-2ac2c80a3cc9",
   "metadata": {},
   "outputs": [],
   "source": [
    "_total = len(missing_movie_ids)"
   ]
  },
  {
   "cell_type": "code",
   "execution_count": 8,
   "id": "db54c2c5-daf1-4667-a591-c50706440ec2",
   "metadata": {},
   "outputs": [],
   "source": [
    "total_missing = list(set(missing_movie_ids))"
   ]
  },
  {
   "cell_type": "code",
   "execution_count": 9,
   "id": "22758c88-1c28-4753-a7f0-2da7fe28f707",
   "metadata": {},
   "outputs": [
    {
     "data": {
      "text/plain": [
       "96325"
      ]
     },
     "execution_count": 9,
     "metadata": {},
     "output_type": "execute_result"
    }
   ],
   "source": [
    "_total"
   ]
  },
  {
   "cell_type": "code",
   "execution_count": 10,
   "id": "fda00ca1-898d-4f5a-a9d2-7e5c7612df61",
   "metadata": {},
   "outputs": [
    {
     "data": {
      "text/plain": [
       "8883"
      ]
     },
     "execution_count": 10,
     "metadata": {},
     "output_type": "execute_result"
    }
   ],
   "source": [
    "len(total_missing)"
   ]
  },
  {
   "cell_type": "code",
   "execution_count": 11,
   "id": "91ecee33-d95e-48d2-b857-ffbed2457340",
   "metadata": {},
   "outputs": [
    {
     "data": {
      "text/plain": [
       "99844"
      ]
     },
     "execution_count": 11,
     "metadata": {},
     "output_type": "execute_result"
    }
   ],
   "source": [
    "qs.count()"
   ]
  },
  {
   "cell_type": "code",
   "execution_count": 12,
   "id": "7fb0cce3-78fa-474e-b573-9d95601d662f",
   "metadata": {},
   "outputs": [],
   "source": [
    "links_df = pd.read_csv(LINKS_SMALL_CSV)"
   ]
  },
  {
   "cell_type": "code",
   "execution_count": 13,
   "id": "49023617-4524-4daf-a7f3-619f79dfb24f",
   "metadata": {},
   "outputs": [
    {
     "data": {
      "text/html": [
       "<div>\n",
       "<style scoped>\n",
       "    .dataframe tbody tr th:only-of-type {\n",
       "        vertical-align: middle;\n",
       "    }\n",
       "\n",
       "    .dataframe tbody tr th {\n",
       "        vertical-align: top;\n",
       "    }\n",
       "\n",
       "    .dataframe thead th {\n",
       "        text-align: right;\n",
       "    }\n",
       "</style>\n",
       "<table border=\"1\" class=\"dataframe\">\n",
       "  <thead>\n",
       "    <tr style=\"text-align: right;\">\n",
       "      <th></th>\n",
       "      <th>movieId</th>\n",
       "      <th>imdbId</th>\n",
       "      <th>tmdbId</th>\n",
       "    </tr>\n",
       "  </thead>\n",
       "  <tbody>\n",
       "    <tr>\n",
       "      <th>0</th>\n",
       "      <td>1</td>\n",
       "      <td>114709</td>\n",
       "      <td>862.0</td>\n",
       "    </tr>\n",
       "    <tr>\n",
       "      <th>1</th>\n",
       "      <td>2</td>\n",
       "      <td>113497</td>\n",
       "      <td>8844.0</td>\n",
       "    </tr>\n",
       "    <tr>\n",
       "      <th>2</th>\n",
       "      <td>3</td>\n",
       "      <td>113228</td>\n",
       "      <td>15602.0</td>\n",
       "    </tr>\n",
       "    <tr>\n",
       "      <th>3</th>\n",
       "      <td>4</td>\n",
       "      <td>114885</td>\n",
       "      <td>31357.0</td>\n",
       "    </tr>\n",
       "    <tr>\n",
       "      <th>4</th>\n",
       "      <td>5</td>\n",
       "      <td>113041</td>\n",
       "      <td>11862.0</td>\n",
       "    </tr>\n",
       "  </tbody>\n",
       "</table>\n",
       "</div>"
      ],
      "text/plain": [
       "   movieId  imdbId   tmdbId\n",
       "0        1  114709    862.0\n",
       "1        2  113497   8844.0\n",
       "2        3  113228  15602.0\n",
       "3        4  114885  31357.0\n",
       "4        5  113041  11862.0"
      ]
     },
     "execution_count": 13,
     "metadata": {},
     "output_type": "execute_result"
    }
   ],
   "source": [
    "links_df.head()"
   ]
  },
  {
   "cell_type": "code",
   "execution_count": 14,
   "id": "d8dd53c4-4f9b-4ba2-b512-a5dcd7fa971e",
   "metadata": {},
   "outputs": [],
   "source": [
    "ms_df = links_df.copy()[links_df.movieId.isin(total_missing)]"
   ]
  },
  {
   "cell_type": "code",
   "execution_count": 15,
   "id": "fb744e10-7213-42c9-a7d3-164574e5439f",
   "metadata": {},
   "outputs": [
    {
     "data": {
      "text/plain": [
       "True"
      ]
     },
     "execution_count": 15,
     "metadata": {},
     "output_type": "execute_result"
    }
   ],
   "source": [
    "len(ms_df) == len(total_missing) # good we are working correctly"
   ]
  },
  {
   "cell_type": "code",
   "execution_count": 16,
   "id": "3b2a1ff7-893a-4544-925d-dbf7e26a359d",
   "metadata": {},
   "outputs": [],
   "source": [
    "def enrich_imdb_col(val):\n",
    "    val = str(val)\n",
    "    if len(val) == 7:\n",
    "        return 'tt' + val\n",
    "    if len(val) == 6:\n",
    "        return 'tt0' + val\n",
    "    if len(val) == 5:\n",
    "        return 'tt00' + val\n",
    "    return  val"
   ]
  },
  {
   "cell_type": "code",
   "execution_count": 17,
   "id": "f129aad6-a423-41d8-a0b3-119bd9b36ead",
   "metadata": {},
   "outputs": [],
   "source": [
    "ms_df['tt'] = ms_df['imdbId'].apply(enrich_imdb_col)"
   ]
  },
  {
   "cell_type": "code",
   "execution_count": 18,
   "id": "670b4a07-569d-44f8-9540-f56b74cd01b4",
   "metadata": {},
   "outputs": [
    {
     "data": {
      "text/html": [
       "<div>\n",
       "<style scoped>\n",
       "    .dataframe tbody tr th:only-of-type {\n",
       "        vertical-align: middle;\n",
       "    }\n",
       "\n",
       "    .dataframe tbody tr th {\n",
       "        vertical-align: top;\n",
       "    }\n",
       "\n",
       "    .dataframe thead th {\n",
       "        text-align: right;\n",
       "    }\n",
       "</style>\n",
       "<table border=\"1\" class=\"dataframe\">\n",
       "  <thead>\n",
       "    <tr style=\"text-align: right;\">\n",
       "      <th></th>\n",
       "      <th>movieId</th>\n",
       "      <th>imdbId</th>\n",
       "      <th>tmdbId</th>\n",
       "      <th>tt</th>\n",
       "    </tr>\n",
       "  </thead>\n",
       "  <tbody>\n",
       "    <tr>\n",
       "      <th>0</th>\n",
       "      <td>1</td>\n",
       "      <td>114709</td>\n",
       "      <td>862.0</td>\n",
       "      <td>tt0114709</td>\n",
       "    </tr>\n",
       "    <tr>\n",
       "      <th>1</th>\n",
       "      <td>2</td>\n",
       "      <td>113497</td>\n",
       "      <td>8844.0</td>\n",
       "      <td>tt0113497</td>\n",
       "    </tr>\n",
       "    <tr>\n",
       "      <th>2</th>\n",
       "      <td>3</td>\n",
       "      <td>113228</td>\n",
       "      <td>15602.0</td>\n",
       "      <td>tt0113228</td>\n",
       "    </tr>\n",
       "    <tr>\n",
       "      <th>3</th>\n",
       "      <td>4</td>\n",
       "      <td>114885</td>\n",
       "      <td>31357.0</td>\n",
       "      <td>tt0114885</td>\n",
       "    </tr>\n",
       "    <tr>\n",
       "      <th>6</th>\n",
       "      <td>7</td>\n",
       "      <td>114319</td>\n",
       "      <td>11860.0</td>\n",
       "      <td>tt0114319</td>\n",
       "    </tr>\n",
       "  </tbody>\n",
       "</table>\n",
       "</div>"
      ],
      "text/plain": [
       "   movieId  imdbId   tmdbId         tt\n",
       "0        1  114709    862.0  tt0114709\n",
       "1        2  113497   8844.0  tt0113497\n",
       "2        3  113228  15602.0  tt0113228\n",
       "3        4  114885  31357.0  tt0114885\n",
       "6        7  114319  11860.0  tt0114319"
      ]
     },
     "execution_count": 18,
     "metadata": {},
     "output_type": "execute_result"
    }
   ],
   "source": [
    "ms_df.head()"
   ]
  },
  {
   "cell_type": "code",
   "execution_count": 19,
   "id": "ed04a558-5268-44c7-bee9-7dc5091b359f",
   "metadata": {},
   "outputs": [
    {
     "data": {
      "text/plain": [
       "True"
      ]
     },
     "execution_count": 19,
     "metadata": {},
     "output_type": "execute_result"
    }
   ],
   "source": [
    "MOVIES_CSV = settings.DATA_DIR / 'movies_metadata.csv'\n",
    "MOVIES_CSV.exists()"
   ]
  },
  {
   "cell_type": "code",
   "execution_count": 20,
   "id": "57880c55-9362-4819-860d-02332cd43ed4",
   "metadata": {},
   "outputs": [],
   "source": [
    "cols = ['title', 'overview', 'release_date', 'imdb_id']\n",
    "movie_df = pd.read_csv(MOVIES_CSV, usecols=cols)"
   ]
  },
  {
   "cell_type": "code",
   "execution_count": 21,
   "id": "9c036018-3dc4-46ce-b8b3-a37fbf9bfdd1",
   "metadata": {},
   "outputs": [
    {
     "data": {
      "text/html": [
       "<div>\n",
       "<style scoped>\n",
       "    .dataframe tbody tr th:only-of-type {\n",
       "        vertical-align: middle;\n",
       "    }\n",
       "\n",
       "    .dataframe tbody tr th {\n",
       "        vertical-align: top;\n",
       "    }\n",
       "\n",
       "    .dataframe thead th {\n",
       "        text-align: right;\n",
       "    }\n",
       "</style>\n",
       "<table border=\"1\" class=\"dataframe\">\n",
       "  <thead>\n",
       "    <tr style=\"text-align: right;\">\n",
       "      <th></th>\n",
       "      <th>imdb_id</th>\n",
       "      <th>overview</th>\n",
       "      <th>release_date</th>\n",
       "      <th>title</th>\n",
       "    </tr>\n",
       "  </thead>\n",
       "  <tbody>\n",
       "    <tr>\n",
       "      <th>0</th>\n",
       "      <td>tt0114709</td>\n",
       "      <td>Led by Woody, Andy's toys live happily in his ...</td>\n",
       "      <td>1995-10-30</td>\n",
       "      <td>Toy Story</td>\n",
       "    </tr>\n",
       "    <tr>\n",
       "      <th>1</th>\n",
       "      <td>tt0113497</td>\n",
       "      <td>When siblings Judy and Peter discover an encha...</td>\n",
       "      <td>1995-12-15</td>\n",
       "      <td>Jumanji</td>\n",
       "    </tr>\n",
       "    <tr>\n",
       "      <th>2</th>\n",
       "      <td>tt0113228</td>\n",
       "      <td>A family wedding reignites the ancient feud be...</td>\n",
       "      <td>1995-12-22</td>\n",
       "      <td>Grumpier Old Men</td>\n",
       "    </tr>\n",
       "    <tr>\n",
       "      <th>3</th>\n",
       "      <td>tt0114885</td>\n",
       "      <td>Cheated on, mistreated and stepped on, the wom...</td>\n",
       "      <td>1995-12-22</td>\n",
       "      <td>Waiting to Exhale</td>\n",
       "    </tr>\n",
       "    <tr>\n",
       "      <th>4</th>\n",
       "      <td>tt0113041</td>\n",
       "      <td>Just when George Banks has recovered from his ...</td>\n",
       "      <td>1995-02-10</td>\n",
       "      <td>Father of the Bride Part II</td>\n",
       "    </tr>\n",
       "  </tbody>\n",
       "</table>\n",
       "</div>"
      ],
      "text/plain": [
       "     imdb_id                                           overview release_date  \\\n",
       "0  tt0114709  Led by Woody, Andy's toys live happily in his ...   1995-10-30   \n",
       "1  tt0113497  When siblings Judy and Peter discover an encha...   1995-12-15   \n",
       "2  tt0113228  A family wedding reignites the ancient feud be...   1995-12-22   \n",
       "3  tt0114885  Cheated on, mistreated and stepped on, the wom...   1995-12-22   \n",
       "4  tt0113041  Just when George Banks has recovered from his ...   1995-02-10   \n",
       "\n",
       "                         title  \n",
       "0                    Toy Story  \n",
       "1                      Jumanji  \n",
       "2             Grumpier Old Men  \n",
       "3            Waiting to Exhale  \n",
       "4  Father of the Bride Part II  "
      ]
     },
     "execution_count": 21,
     "metadata": {},
     "output_type": "execute_result"
    }
   ],
   "source": [
    "movie_df.head()"
   ]
  },
  {
   "cell_type": "code",
   "execution_count": 22,
   "id": "1682e3ca-5694-4580-98e0-031a61595c9a",
   "metadata": {},
   "outputs": [],
   "source": [
    "missing_movies_df = ms_df.merge(movie_df, left_on='tt', right_on='imdb_id')"
   ]
  },
  {
   "cell_type": "code",
   "execution_count": 23,
   "id": "a25e75a0-2d46-493a-af93-9f33b422c0e7",
   "metadata": {},
   "outputs": [
    {
     "data": {
      "text/html": [
       "<div>\n",
       "<style scoped>\n",
       "    .dataframe tbody tr th:only-of-type {\n",
       "        vertical-align: middle;\n",
       "    }\n",
       "\n",
       "    .dataframe tbody tr th {\n",
       "        vertical-align: top;\n",
       "    }\n",
       "\n",
       "    .dataframe thead th {\n",
       "        text-align: right;\n",
       "    }\n",
       "</style>\n",
       "<table border=\"1\" class=\"dataframe\">\n",
       "  <thead>\n",
       "    <tr style=\"text-align: right;\">\n",
       "      <th></th>\n",
       "      <th>movieId</th>\n",
       "      <th>imdbId</th>\n",
       "      <th>tmdbId</th>\n",
       "      <th>tt</th>\n",
       "      <th>imdb_id</th>\n",
       "      <th>overview</th>\n",
       "      <th>release_date</th>\n",
       "      <th>title</th>\n",
       "    </tr>\n",
       "  </thead>\n",
       "  <tbody>\n",
       "    <tr>\n",
       "      <th>0</th>\n",
       "      <td>1</td>\n",
       "      <td>114709</td>\n",
       "      <td>862.0</td>\n",
       "      <td>tt0114709</td>\n",
       "      <td>tt0114709</td>\n",
       "      <td>Led by Woody, Andy's toys live happily in his ...</td>\n",
       "      <td>1995-10-30</td>\n",
       "      <td>Toy Story</td>\n",
       "    </tr>\n",
       "    <tr>\n",
       "      <th>1</th>\n",
       "      <td>2</td>\n",
       "      <td>113497</td>\n",
       "      <td>8844.0</td>\n",
       "      <td>tt0113497</td>\n",
       "      <td>tt0113497</td>\n",
       "      <td>When siblings Judy and Peter discover an encha...</td>\n",
       "      <td>1995-12-15</td>\n",
       "      <td>Jumanji</td>\n",
       "    </tr>\n",
       "    <tr>\n",
       "      <th>2</th>\n",
       "      <td>3</td>\n",
       "      <td>113228</td>\n",
       "      <td>15602.0</td>\n",
       "      <td>tt0113228</td>\n",
       "      <td>tt0113228</td>\n",
       "      <td>A family wedding reignites the ancient feud be...</td>\n",
       "      <td>1995-12-22</td>\n",
       "      <td>Grumpier Old Men</td>\n",
       "    </tr>\n",
       "    <tr>\n",
       "      <th>3</th>\n",
       "      <td>4</td>\n",
       "      <td>114885</td>\n",
       "      <td>31357.0</td>\n",
       "      <td>tt0114885</td>\n",
       "      <td>tt0114885</td>\n",
       "      <td>Cheated on, mistreated and stepped on, the wom...</td>\n",
       "      <td>1995-12-22</td>\n",
       "      <td>Waiting to Exhale</td>\n",
       "    </tr>\n",
       "    <tr>\n",
       "      <th>4</th>\n",
       "      <td>7</td>\n",
       "      <td>114319</td>\n",
       "      <td>11860.0</td>\n",
       "      <td>tt0114319</td>\n",
       "      <td>tt0114319</td>\n",
       "      <td>An ugly duckling having undergone a remarkable...</td>\n",
       "      <td>1995-12-15</td>\n",
       "      <td>Sabrina</td>\n",
       "    </tr>\n",
       "  </tbody>\n",
       "</table>\n",
       "</div>"
      ],
      "text/plain": [
       "   movieId  imdbId   tmdbId         tt    imdb_id  \\\n",
       "0        1  114709    862.0  tt0114709  tt0114709   \n",
       "1        2  113497   8844.0  tt0113497  tt0113497   \n",
       "2        3  113228  15602.0  tt0113228  tt0113228   \n",
       "3        4  114885  31357.0  tt0114885  tt0114885   \n",
       "4        7  114319  11860.0  tt0114319  tt0114319   \n",
       "\n",
       "                                            overview release_date  \\\n",
       "0  Led by Woody, Andy's toys live happily in his ...   1995-10-30   \n",
       "1  When siblings Judy and Peter discover an encha...   1995-12-15   \n",
       "2  A family wedding reignites the ancient feud be...   1995-12-22   \n",
       "3  Cheated on, mistreated and stepped on, the wom...   1995-12-22   \n",
       "4  An ugly duckling having undergone a remarkable...   1995-12-15   \n",
       "\n",
       "               title  \n",
       "0          Toy Story  \n",
       "1            Jumanji  \n",
       "2   Grumpier Old Men  \n",
       "3  Waiting to Exhale  \n",
       "4            Sabrina  "
      ]
     },
     "execution_count": 23,
     "metadata": {},
     "output_type": "execute_result"
    }
   ],
   "source": [
    "missing_movies_df.head()"
   ]
  },
  {
   "cell_type": "code",
   "execution_count": 24,
   "id": "aa126fc6-a970-4140-a6df-97cfe6deaf85",
   "metadata": {},
   "outputs": [],
   "source": [
    "missing_movies_df['id'] = missing_movies_df['movieId']\n",
    "missing_movies_df['id_alt'] = missing_movies_df['tmdbId'].astype(int).astype(str)"
   ]
  },
  {
   "cell_type": "code",
   "execution_count": 25,
   "id": "60ed4167-934b-4a16-829e-280e8c008074",
   "metadata": {},
   "outputs": [
    {
     "data": {
      "text/html": [
       "<div>\n",
       "<style scoped>\n",
       "    .dataframe tbody tr th:only-of-type {\n",
       "        vertical-align: middle;\n",
       "    }\n",
       "\n",
       "    .dataframe tbody tr th {\n",
       "        vertical-align: top;\n",
       "    }\n",
       "\n",
       "    .dataframe thead th {\n",
       "        text-align: right;\n",
       "    }\n",
       "</style>\n",
       "<table border=\"1\" class=\"dataframe\">\n",
       "  <thead>\n",
       "    <tr style=\"text-align: right;\">\n",
       "      <th></th>\n",
       "      <th>movieId</th>\n",
       "      <th>imdbId</th>\n",
       "      <th>tmdbId</th>\n",
       "      <th>tt</th>\n",
       "      <th>imdb_id</th>\n",
       "      <th>overview</th>\n",
       "      <th>release_date</th>\n",
       "      <th>title</th>\n",
       "      <th>id</th>\n",
       "      <th>id_alt</th>\n",
       "    </tr>\n",
       "  </thead>\n",
       "  <tbody>\n",
       "    <tr>\n",
       "      <th>0</th>\n",
       "      <td>1</td>\n",
       "      <td>114709</td>\n",
       "      <td>862.0</td>\n",
       "      <td>tt0114709</td>\n",
       "      <td>tt0114709</td>\n",
       "      <td>Led by Woody, Andy's toys live happily in his ...</td>\n",
       "      <td>1995-10-30</td>\n",
       "      <td>Toy Story</td>\n",
       "      <td>1</td>\n",
       "      <td>862</td>\n",
       "    </tr>\n",
       "    <tr>\n",
       "      <th>1</th>\n",
       "      <td>2</td>\n",
       "      <td>113497</td>\n",
       "      <td>8844.0</td>\n",
       "      <td>tt0113497</td>\n",
       "      <td>tt0113497</td>\n",
       "      <td>When siblings Judy and Peter discover an encha...</td>\n",
       "      <td>1995-12-15</td>\n",
       "      <td>Jumanji</td>\n",
       "      <td>2</td>\n",
       "      <td>8844</td>\n",
       "    </tr>\n",
       "    <tr>\n",
       "      <th>2</th>\n",
       "      <td>3</td>\n",
       "      <td>113228</td>\n",
       "      <td>15602.0</td>\n",
       "      <td>tt0113228</td>\n",
       "      <td>tt0113228</td>\n",
       "      <td>A family wedding reignites the ancient feud be...</td>\n",
       "      <td>1995-12-22</td>\n",
       "      <td>Grumpier Old Men</td>\n",
       "      <td>3</td>\n",
       "      <td>15602</td>\n",
       "    </tr>\n",
       "    <tr>\n",
       "      <th>3</th>\n",
       "      <td>4</td>\n",
       "      <td>114885</td>\n",
       "      <td>31357.0</td>\n",
       "      <td>tt0114885</td>\n",
       "      <td>tt0114885</td>\n",
       "      <td>Cheated on, mistreated and stepped on, the wom...</td>\n",
       "      <td>1995-12-22</td>\n",
       "      <td>Waiting to Exhale</td>\n",
       "      <td>4</td>\n",
       "      <td>31357</td>\n",
       "    </tr>\n",
       "    <tr>\n",
       "      <th>4</th>\n",
       "      <td>7</td>\n",
       "      <td>114319</td>\n",
       "      <td>11860.0</td>\n",
       "      <td>tt0114319</td>\n",
       "      <td>tt0114319</td>\n",
       "      <td>An ugly duckling having undergone a remarkable...</td>\n",
       "      <td>1995-12-15</td>\n",
       "      <td>Sabrina</td>\n",
       "      <td>7</td>\n",
       "      <td>11860</td>\n",
       "    </tr>\n",
       "  </tbody>\n",
       "</table>\n",
       "</div>"
      ],
      "text/plain": [
       "   movieId  imdbId   tmdbId         tt    imdb_id  \\\n",
       "0        1  114709    862.0  tt0114709  tt0114709   \n",
       "1        2  113497   8844.0  tt0113497  tt0113497   \n",
       "2        3  113228  15602.0  tt0113228  tt0113228   \n",
       "3        4  114885  31357.0  tt0114885  tt0114885   \n",
       "4        7  114319  11860.0  tt0114319  tt0114319   \n",
       "\n",
       "                                            overview release_date  \\\n",
       "0  Led by Woody, Andy's toys live happily in his ...   1995-10-30   \n",
       "1  When siblings Judy and Peter discover an encha...   1995-12-15   \n",
       "2  A family wedding reignites the ancient feud be...   1995-12-22   \n",
       "3  Cheated on, mistreated and stepped on, the wom...   1995-12-22   \n",
       "4  An ugly duckling having undergone a remarkable...   1995-12-15   \n",
       "\n",
       "               title  id id_alt  \n",
       "0          Toy Story   1    862  \n",
       "1            Jumanji   2   8844  \n",
       "2   Grumpier Old Men   3  15602  \n",
       "3  Waiting to Exhale   4  31357  \n",
       "4            Sabrina   7  11860  "
      ]
     },
     "execution_count": 25,
     "metadata": {},
     "output_type": "execute_result"
    }
   ],
   "source": [
    "missing_movies_df.head()"
   ]
  },
  {
   "cell_type": "code",
   "execution_count": 26,
   "id": "c1710fef-b1ff-4eac-bf02-eddaf2fe9251",
   "metadata": {},
   "outputs": [],
   "source": [
    "final_df = missing_movies_df.copy()[['id', 'id_alt', 'title']]"
   ]
  },
  {
   "cell_type": "code",
   "execution_count": 27,
   "id": "9beaa44c-2ec6-47b7-a906-108ed1d953bc",
   "metadata": {},
   "outputs": [
    {
     "data": {
      "text/html": [
       "<div>\n",
       "<style scoped>\n",
       "    .dataframe tbody tr th:only-of-type {\n",
       "        vertical-align: middle;\n",
       "    }\n",
       "\n",
       "    .dataframe tbody tr th {\n",
       "        vertical-align: top;\n",
       "    }\n",
       "\n",
       "    .dataframe thead th {\n",
       "        text-align: right;\n",
       "    }\n",
       "</style>\n",
       "<table border=\"1\" class=\"dataframe\">\n",
       "  <thead>\n",
       "    <tr style=\"text-align: right;\">\n",
       "      <th></th>\n",
       "      <th>id</th>\n",
       "      <th>id_alt</th>\n",
       "      <th>title</th>\n",
       "    </tr>\n",
       "  </thead>\n",
       "  <tbody>\n",
       "    <tr>\n",
       "      <th>0</th>\n",
       "      <td>1</td>\n",
       "      <td>862</td>\n",
       "      <td>Toy Story</td>\n",
       "    </tr>\n",
       "    <tr>\n",
       "      <th>1</th>\n",
       "      <td>2</td>\n",
       "      <td>8844</td>\n",
       "      <td>Jumanji</td>\n",
       "    </tr>\n",
       "    <tr>\n",
       "      <th>2</th>\n",
       "      <td>3</td>\n",
       "      <td>15602</td>\n",
       "      <td>Grumpier Old Men</td>\n",
       "    </tr>\n",
       "    <tr>\n",
       "      <th>3</th>\n",
       "      <td>4</td>\n",
       "      <td>31357</td>\n",
       "      <td>Waiting to Exhale</td>\n",
       "    </tr>\n",
       "    <tr>\n",
       "      <th>4</th>\n",
       "      <td>7</td>\n",
       "      <td>11860</td>\n",
       "      <td>Sabrina</td>\n",
       "    </tr>\n",
       "  </tbody>\n",
       "</table>\n",
       "</div>"
      ],
      "text/plain": [
       "   id id_alt              title\n",
       "0   1    862          Toy Story\n",
       "1   2   8844            Jumanji\n",
       "2   3  15602   Grumpier Old Men\n",
       "3   4  31357  Waiting to Exhale\n",
       "4   7  11860            Sabrina"
      ]
     },
     "execution_count": 27,
     "metadata": {},
     "output_type": "execute_result"
    }
   ],
   "source": [
    "final_df.head()"
   ]
  },
  {
   "cell_type": "code",
   "execution_count": 28,
   "id": "cdf94452-532b-45e5-b13e-31c34b039002",
   "metadata": {},
   "outputs": [],
   "source": [
    "alt_id_list = final_df['id_alt'].to_list()"
   ]
  },
  {
   "cell_type": "code",
   "execution_count": 29,
   "id": "344446c3-48bb-4249-bc78-36a0e354b396",
   "metadata": {},
   "outputs": [
    {
     "data": {
      "text/plain": [
       "8829"
      ]
     },
     "execution_count": 29,
     "metadata": {},
     "output_type": "execute_result"
    }
   ],
   "source": [
    "len(alt_id_list)"
   ]
  },
  {
   "cell_type": "code",
   "execution_count": 30,
   "id": "82bf184a-ae5f-46be-9e6c-70b64d7361e1",
   "metadata": {},
   "outputs": [],
   "source": [
    "movies_qs = Movie.objects.filter(id__in = alt_id_list)"
   ]
  },
  {
   "cell_type": "code",
   "execution_count": 31,
   "id": "718084a7-6fae-4ff7-bae2-536765b0395c",
   "metadata": {},
   "outputs": [
    {
     "data": {
      "text/plain": [
       "735"
      ]
     },
     "execution_count": 31,
     "metadata": {},
     "output_type": "execute_result"
    }
   ],
   "source": [
    "movies_qs.count()"
   ]
  },
  {
   "cell_type": "code",
   "execution_count": 32,
   "id": "c05921d3-4980-4b5b-8f1f-9b0b0a1404a7",
   "metadata": {},
   "outputs": [],
   "source": [
    "from django.forms.models import model_to_dict"
   ]
  },
  {
   "cell_type": "code",
   "execution_count": 45,
   "id": "566af22a-4442-4aad-8dd7-90c14cb1f756",
   "metadata": {},
   "outputs": [],
   "source": [
    "for obj in movies_qs:\n",
    "    data = final_df.copy()[final_df['id_alt'] == str(obj.id)]\n",
    "    if data.shape[0] == 1:\n",
    "        og_model_data = model_to_dict(obj)\n",
    "        updated_data = data.to_dict('records')[0]\n",
    "        if obj.title == updated_data.get('title'):\n",
    "            og_model_data['id'] = updated_data['id']\n",
    "            obj.delete()\n",
    "            obj = Movie.objects.create(**og_model_data)\n",
    "            obj.save()\n",
    "    # print(obj.id, data.shape)"
   ]
  },
  {
   "cell_type": "code",
   "execution_count": 46,
   "id": "ce5da9ef-8045-4ad3-9f30-96ea43492b49",
   "metadata": {},
   "outputs": [],
   "source": [
    "from ratings.tasks import task_update_movie_ratings\n",
    "task_update_movie_ratings()"
   ]
  },
  {
   "cell_type": "code",
   "execution_count": null,
   "id": "64f20dbe-1251-4fb5-be02-9396b0dd421b",
   "metadata": {},
   "outputs": [],
   "source": []
  }
 ],
 "metadata": {
  "kernelspec": {
   "display_name": "Python 3 (ipykernel)",
   "language": "python",
   "name": "python3"
  },
  "language_info": {
   "codemirror_mode": {
    "name": "ipython",
    "version": 3
   },
   "file_extension": ".py",
   "mimetype": "text/x-python",
   "name": "python",
   "nbconvert_exporter": "python",
   "pygments_lexer": "ipython3",
   "version": "3.12.4"
  }
 },
 "nbformat": 4,
 "nbformat_minor": 5
}
